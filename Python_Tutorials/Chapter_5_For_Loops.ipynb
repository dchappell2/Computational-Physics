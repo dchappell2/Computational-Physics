{
  "nbformat": 4,
  "nbformat_minor": 0,
  "metadata": {
    "colab": {
      "provenance": [],
      "toc_visible": true,
      "authorship_tag": "ABX9TyOvRLWwVT3Sh0PbUGlGjV4Z",
      "include_colab_link": true
    },
    "kernelspec": {
      "name": "python3",
      "display_name": "Python 3"
    },
    "language_info": {
      "name": "python"
    }
  },
  "cells": [
    {
      "cell_type": "markdown",
      "metadata": {
        "id": "view-in-github",
        "colab_type": "text"
      },
      "source": [
        "<a href=\"https://colab.research.google.com/github/Reiniery/Computational-Physics/blob/main/Python_Tutorials/Chapter_5_For_Loops.ipynb\" target=\"_parent\"><img src=\"https://colab.research.google.com/assets/colab-badge.svg\" alt=\"Open In Colab\"/></a>"
      ]
    },
    {
      "cell_type": "markdown",
      "source": [
        "#Chapter 5 - loops\n",
        "\n",
        "Goals:\n",
        "* Explain what loops do and what they are used for.\n",
        "* Trace the execution of for loops and while loops and correctly predict the state of variables in each iteration.\n",
        "* Write for and while loops to solve computational problems.\n",
        "* Asses when to use for loops and when to use while loops.\n",
        "* Write loops that use the Accumulator pattern to keep running sums or products and/or extend lists."
      ],
      "metadata": {
        "id": "QpgVwpxQFpAb"
      }
    },
    {
      "cell_type": "markdown",
      "source": [
        "##**5.0 Loops execute commands once for each value in a collection**\n",
        "\n",
        "\n"
      ],
      "metadata": {
        "id": "Ry7yHfvyEZEC"
      }
    },
    {
      "cell_type": "markdown",
      "source": [
        "* Doing repeated cacluations by hand for large data sets is painful. Loops let you set up the calculation once and apply it to as many data points as you like.\n",
        "* A for loop tells Python to execute some statements once for each value in a list or some other collection, i.e. \"for each thing in this group, do these operations\".\n",
        "* A `while` loop runs continuously until some condition is met"
      ],
      "metadata": {
        "id": "9guTDiJfG7P7"
      }
    },
    {
      "cell_type": "markdown",
      "source": [
        "##**5.1 A `for` loop is made up of a collection, a loop variable, and a body**\n",
        "\n"
      ],
      "metadata": {
        "id": "RwatQ3SUJOT2"
      }
    },
    {
      "cell_type": "markdown",
      "source": [
        "* In the example below, the collection `[2, 3, 5]` is what the loop is being run on. In this example, the collection is a Python list, but other objects can also serve as the collection.\n",
        "* The body, `print(number)`, specifies what to do for each value in the collection\n",
        "* The loop variable, `number`, is what changes on each iteration of the loop\n",
        "\n"
      ],
      "metadata": {
        "id": "qv8jStocDmJA"
      }
    },
    {
      "cell_type": "code",
      "execution_count": 1,
      "metadata": {
        "id": "lrD5V_DaFk6-",
        "outputId": "43a25e26-54bb-4d4e-fb6b-58a483c99db0",
        "colab": {
          "base_uri": "https://localhost:8080/"
        }
      },
      "outputs": [
        {
          "output_type": "stream",
          "name": "stdout",
          "text": [
            "2\n",
            "3\n",
            "5\n"
          ]
        }
      ],
      "source": [
        "for number in [2,3,5]:      # for loop over the collection [2,3,5]\n",
        "    print(number)           # body of the for loop"
      ]
    },
    {
      "cell_type": "markdown",
      "source": [
        "* On the first iteration of the loop, the loop ariable `number` takes the value 2 (the first element of the collection.\n",
        "* On the second iteration, `number` takes the value 3 (second element of the collection) and so on.\n",
        "* When the last element of the collection is reached, the loop ends"
      ],
      "metadata": {
        "id": "FMtrsAhRaZaf"
      }
    },
    {
      "cell_type": "markdown",
      "source": [
        "## **5.2 The first line of a `for` loop must end with a colon, and the body must be indented**\n",
        "\n",
        "\n",
        "\n"
      ],
      "metadata": {
        "id": "W9LHmOW-HUbY"
      }
    },
    {
      "cell_type": "markdown",
      "source": [
        "* The colon at the end of the first line signals the start of a block of statements\n",
        "* Python uses indentation rather than conventions in other programming languages (such as `{ }` in C, or `end` in Matlab)\n",
        "* Any consistent indentation is legal, but almost everyone uses 4 spaces\n",
        "* If you don't indent, and indent the same amount for every line in the body of the loop, you'll get an error message\n",
        "* If you indent when you're not supposed to, you'll get an error message\n",
        "* Be careful how your code is indented!!"
      ],
      "metadata": {
        "id": "D4KTeiErE7GO"
      }
    },
    {
      "cell_type": "markdown",
      "source": [
        "##**5.3 Loop variables can be called anything**\n",
        "Loop variables:\n",
        "* are created on demand (they don't have to be previously defined)\n",
        "* can be called anything, although its a good idea to have the name of the loop variable reflect something about the collection if possible\n",
        "\n",
        "While the following is a valid for loop, the loop variable \"kitten\" probably doesn't add to our understanding of what the loop is for, unless the the collection `[4,5,6]` represents a kitten ID #. 🐱"
      ],
      "metadata": {
        "id": "oTD1K4e6OwXf"
      }
    },
    {
      "cell_type": "code",
      "source": [
        "for kitten in [4, 5, 6]:\n",
        "    print(kitten)"
      ],
      "metadata": {
        "id": "7sB_k1aPKnyD",
        "outputId": "b7a351b0-d351-438b-b0c7-f7b793ba4d66",
        "colab": {
          "base_uri": "https://localhost:8080/"
        }
      },
      "execution_count": 2,
      "outputs": [
        {
          "output_type": "stream",
          "name": "stdout",
          "text": [
            "4\n",
            "5\n",
            "6\n"
          ]
        }
      ]
    },
    {
      "cell_type": "markdown",
      "source": [
        "### ✅ Skill Check 1\n",
        "\n",
        "Write a for loop that prints each element of the following list, one item at a time:  `[2, 8, 18, 32, 50]`."
      ],
      "metadata": {
        "id": "Qu3gZoRCp8ow"
      }
    },
    {
      "cell_type": "code",
      "source": [
        "for number in [2, 8, 18, 32, 50]:\n",
        "    print(number)"
      ],
      "metadata": {
        "id": "ZnbTFg_UcQS0",
        "outputId": "f9eeb869-2e4b-41a1-9ec4-b05b7e42fe86",
        "colab": {
          "base_uri": "https://localhost:8080/"
        }
      },
      "execution_count": 3,
      "outputs": [
        {
          "output_type": "stream",
          "name": "stdout",
          "text": [
            "2\n",
            "8\n",
            "18\n",
            "32\n",
            "50\n"
          ]
        }
      ]
    },
    {
      "cell_type": "markdown",
      "source": [
        "### ✅ Skill Check 1\n",
        "\n",
        "Write a for loop that prints each element of the following list, one item at a time:  `[2, 8, 18, 32, 50]`."
      ],
      "metadata": {
        "id": "Qu3gZoRCp8ow"
      }
    },
    {
      "cell_type": "markdown",
      "source": [
        "##**5.4 The body of a loop can contain many statements**\n",
        "\n",
        "* We recommend structuring your code so no loop is more than a few lines (otherwise your code can be hard to follow\n",
        "* Here's an example where we let the loop variable be `p` that will loop over a list of prime numbers. The `p` reminds us the loop variable is a prime.\n",
        "* Our program defines a list of primes and then prints a data table showing the prime, its square and its cube. It also prints a header at the top of the table to label each column\n"
      ],
      "metadata": {
        "id": "UKJZ8EB2LH8M"
      }
    },
    {
      "cell_type": "markdown",
      "source": [
        "### 🔆 Example:  for loop over prime numbers"
      ],
      "metadata": {
        "id": "ronWNJAFhkGz"
      }
    },
    {
      "cell_type": "code",
      "source": [
        "primes = [2, 3, 5, 7, 11]      # define a list of prime numbers\n",
        "print(\" prime  square   cube\") # print a header labeling each data column\n",
        "for p in primes:               # for loop, p will loop over elements of primes\n",
        "    squared = p**2             # calculate square of p\n",
        "    cubed   = p**3             # calculate cube of p\n",
        "    print(f\"    {p:2d}     {squared:3d}   {cubed:4d}\")  # formatted print"
      ],
      "metadata": {
        "id": "rmy_S2pMLtNu",
        "outputId": "156eb72b-fe68-4897-f87b-3bd029459181",
        "colab": {
          "base_uri": "https://localhost:8080/"
        }
      },
      "execution_count": 4,
      "outputs": [
        {
          "output_type": "stream",
          "name": "stdout",
          "text": [
            " prime  square   cube\n",
            "     2       4      8\n",
            "     3       9     27\n",
            "     5      25    125\n",
            "     7      49    343\n",
            "    11     121   1331\n"
          ]
        }
      ]
    },
    {
      "cell_type": "markdown",
      "source": [
        "* Notice we use a formatted print statement to line the numbers up in columns. The `{squared:3d}` formatting tells python to reserve 3 spaces for digits in the squared numbers and `{cubed:4d}` reserves 4 spaces for cubes."
      ],
      "metadata": {
        "id": "62NxBssmN5Ox"
      }
    },
    {
      "cell_type": "markdown",
      "source": [
        "##**5.5 Iterate over a list of non-numeric items**\n",
        "\n",
        "`for` loops can iterate over lists of non-numeric  items in addition to numbers. In the following example, we use a `for` loop to iterate over a list of words. We use a formatted print statement to center-justify them."
      ],
      "metadata": {
        "id": "yKYuZrT9lMHk"
      }
    },
    {
      "cell_type": "code",
      "source": [
        "word_list = ['top','quark','gravity','radiation', 'electromagnetic','pion']\n",
        "\n",
        "for word in word_list:\n",
        "    print(f\"              {word:^15}\")"
      ],
      "metadata": {
        "id": "O6UU8o_Ll4IR",
        "outputId": "42ab9e44-7449-4dba-b2c2-41bf72fa472b",
        "colab": {
          "base_uri": "https://localhost:8080/"
        }
      },
      "execution_count": 5,
      "outputs": [
        {
          "output_type": "stream",
          "name": "stdout",
          "text": [
            "                    top      \n",
            "                   quark     \n",
            "                  gravity    \n",
            "                 radiation   \n",
            "              electromagnetic\n",
            "                   pion      \n"
          ]
        }
      ]
    },
    {
      "cell_type": "markdown",
      "source": [
        "##**5.5 use `range()` to iterate over a sequence of numbers**\n",
        "\n",
        "* The `range(start,stop)` function produces a sequence of integers from `start` to `stop-1`\n",
        "* `range()` does not produce a Python list (which can take up lots of computer memory for long lists), rather, it generates the numbers on demand, one at a time.\n"
      ],
      "metadata": {
        "id": "JhUwF6m5O0Wr"
      }
    },
    {
      "cell_type": "code",
      "source": [
        "for n in range(3,8):\n",
        "    print(\"n =\",n)"
      ],
      "metadata": {
        "id": "xSPrbyI0QWqD",
        "outputId": "db805233-d072-408c-94a2-54c49026bdbe",
        "colab": {
          "base_uri": "https://localhost:8080/"
        }
      },
      "execution_count": 7,
      "outputs": [
        {
          "output_type": "stream",
          "name": "stdout",
          "text": [
            "n = 3\n",
            "n = 4\n",
            "n = 5\n",
            "n = 6\n",
            "n = 7\n"
          ]
        }
      ]
    },
    {
      "cell_type": "markdown",
      "source": [
        "* You can also use `range(N)` which generates the numbers:  0, 1, 2, ...N-1\n"
      ],
      "metadata": {
        "id": "gPUYBPPaQqBh"
      }
    },
    {
      "cell_type": "code",
      "source": [
        "for n in range(5):\n",
        "    print(\"n =\",n)"
      ],
      "metadata": {
        "id": "7mtFYdnzQ7Xs",
        "outputId": "50554fd3-0453-4e3b-864b-45c509375a70",
        "colab": {
          "base_uri": "https://localhost:8080/"
        }
      },
      "execution_count": 8,
      "outputs": [
        {
          "output_type": "stream",
          "name": "stdout",
          "text": [
            "n = 0\n",
            "n = 1\n",
            "n = 2\n",
            "n = 3\n",
            "n = 4\n"
          ]
        }
      ]
    },
    {
      "cell_type": "markdown",
      "source": [
        "* Or, you can specify a non-unit step:  `range(start,stop,step)`. For example, if step = 2, the for loop would begin counting by 2s from `start`."
      ],
      "metadata": {
        "id": "1KItCLfnQ-xM"
      }
    },
    {
      "cell_type": "code",
      "source": [
        "for n in range(0,10,2):\n",
        "    print(\"n =\",n)"
      ],
      "metadata": {
        "id": "Tf8oNCUsKxrc",
        "outputId": "7701c02b-8ee6-45da-fff1-97357d18b277",
        "colab": {
          "base_uri": "https://localhost:8080/"
        }
      },
      "execution_count": 9,
      "outputs": [
        {
          "output_type": "stream",
          "name": "stdout",
          "text": [
            "n = 0\n",
            "n = 2\n",
            "n = 4\n",
            "n = 6\n",
            "n = 8\n"
          ]
        }
      ]
    },
    {
      "cell_type": "markdown",
      "source": [
        "### 🔆 Example:  counting down\n",
        "\n",
        "You can count backwards by using a negative `step` and letting the `stop` value be larger than the `start` value"
      ],
      "metadata": {
        "id": "XUvhaMERc4V2"
      }
    },
    {
      "cell_type": "code",
      "source": [
        "for count in range(10,0,-1):\n",
        "    print(count)\n"
      ],
      "metadata": {
        "id": "NIkGLnQldSqt",
        "outputId": "d190a2a6-3d31-4263-fa17-36d5846b3c51",
        "colab": {
          "base_uri": "https://localhost:8080/"
        }
      },
      "execution_count": 10,
      "outputs": [
        {
          "output_type": "stream",
          "name": "stdout",
          "text": [
            "10\n",
            "9\n",
            "8\n",
            "7\n",
            "6\n",
            "5\n",
            "4\n",
            "3\n",
            "2\n",
            "1\n"
          ]
        }
      ]
    },
    {
      "cell_type": "markdown",
      "source": [
        "### ✅ Skill Check 1\n",
        "\n",
        "Write a for loop to count by fives starting from 5 and ending at 50. Your program should print out each value."
      ],
      "metadata": {
        "id": "PtIK3N2ZNxxC"
      }
    },
    {
      "cell_type": "code",
      "source": [
        "for i in range(5,55,5):\n",
        "    print(i)"
      ],
      "metadata": {
        "id": "q0R3-07JdIFd",
        "outputId": "d3053c2e-133b-498a-f6eb-af056072488b",
        "colab": {
          "base_uri": "https://localhost:8080/"
        }
      },
      "execution_count": 12,
      "outputs": [
        {
          "output_type": "stream",
          "name": "stdout",
          "text": [
            "5\n",
            "10\n",
            "15\n",
            "20\n",
            "25\n",
            "30\n",
            "35\n",
            "40\n",
            "45\n",
            "50\n"
          ]
        }
      ]
    },
    {
      "cell_type": "markdown",
      "source": [
        "## **5.7 Use `enumerate()` to loop over values and the list index**\n",
        "\n",
        "* In a standard `for` loop, only the values corresponding to each element in a list are accessible. The index isn't.\n",
        "* The index tells us which element of an array the value is stored in, which can be useful for some applications.\n",
        "* We could use a counter to keep track of the index ourselves, like this:\n"
      ],
      "metadata": {
        "id": "L-60tBjHxaQk"
      }
    },
    {
      "cell_type": "code",
      "source": [
        "primes = [2, 3, 5, 7, 11]                # define a list of prime numbers\n",
        "i = 0                                    # initialized a counter to track the index\n",
        "for p in primes:                         # loop over elements in primes\n",
        "    print(f\"index = {i}   prime = {p}\")  # print index and value\n",
        "    i = i + 1                            # increment the counter"
      ],
      "metadata": {
        "id": "0QNqB1x9eAik"
      },
      "execution_count": null,
      "outputs": []
    },
    {
      "cell_type": "markdown",
      "source": [
        "##5.6 **The accumulator pattern sums or combines elements in a collection of numbers**\n",
        "\n",
        "The pattern is as follows:\n",
        "* Initialize an accumulator variable to zero (if summing)\n",
        "* Loop over elements in an array/collection to update the value of the accumulator\n",
        "\n"
      ],
      "metadata": {
        "id": "PxT1JzEdRZek"
      }
    },
    {
      "cell_type": "markdown",
      "source": [
        "### 🔆 Example: Summing integers\n",
        "\n",
        "The following example used the Accumulator Pattern to sum the integers from 1 to 10.\n",
        "* We first initialize the accumulator variable, called `total` to zero.\n",
        "* We then loop over the the integers from 1 to 10\n",
        "* On each itereation of the loop, we add the loop variable (our integer) to the accumulator variable (the running total)"
      ],
      "metadata": {
        "id": "zZc3pgxjiB0-"
      }
    },
    {
      "cell_type": "code",
      "source": [
        "N = 10                    # N = upper limit of sum\n",
        "\n",
        "total = 0                 # total = accumulator = sum of integers\n",
        "for i in range(1,N+1):    # loop over integers 1 to N\n",
        "    total = total + i     # add i to the running total\n",
        "\n",
        "print(\"sum of integers from 1 to\",N,\"is\",total)"
      ],
      "metadata": {
        "id": "zNSlxuvgSetP",
        "outputId": "a4db39a8-b5d4-46f0-c7fa-313c126f4510",
        "colab": {
          "base_uri": "https://localhost:8080/"
        }
      },
      "execution_count": 20,
      "outputs": [
        {
          "output_type": "stream",
          "name": "stdout",
          "text": [
            "sum of integers from 1 to 10 is 55\n"
          ]
        }
      ]
    },
    {
      "cell_type": "markdown",
      "source": [
        "### 🔆 Example: Extending a list\n",
        "\n",
        "Another example of the accumulator pattern is \"accumulating\" items in a list.\n",
        "* Here's an example where we keep appending items on the end of a list based on the prior elements.\n",
        "* In this example, the new item equals the previous item times two.\n",
        "* If $x_n$ is the $n^{th}$ list item, $x_{n+1}=2\\cdot x_n$\n",
        "* In other words, the $n^{th}$ item in the list will be $x_n = 2^n$.\n",
        "* Remember, `my_list[-1]` is the last item in the list, so `2*my_list[-1]` multiplies the last element by 2."
      ],
      "metadata": {
        "id": "pP_y5iwq2og4"
      }
    },
    {
      "cell_type": "code",
      "source": [
        "my_list = [1]                      # initialize the list with 1\n",
        "\n",
        "for n in range(10):                # for loop will calculate the next 10 items\n",
        "    my_list.append(my_list[-1]*2)  # next item = previous item * 2\n",
        "\n",
        "print(my_list)"
      ],
      "metadata": {
        "id": "JqALeTLw3GLL",
        "outputId": "54e69d79-5512-4d15-f9d6-dc74739b691e",
        "colab": {
          "base_uri": "https://localhost:8080/"
        }
      },
      "execution_count": 21,
      "outputs": [
        {
          "output_type": "stream",
          "name": "stdout",
          "text": [
            "[1, 2, 4, 8, 16, 32, 64, 128, 256, 512, 1024]\n"
          ]
        }
      ]
    },
    {
      "cell_type": "markdown",
      "source": [
        "### ✅ Skill Check 7\n",
        "\n"
      ],
      "metadata": {
        "id": "NNzUlt5Onccq"
      }
    },
    {
      "cell_type": "markdown",
      "source": [
        "* Write a program that uses the Accumulator Pattern to calculate the factorial $x!$ of a given whole number `x` where $x! = 1\\cdot 2\\cdot 3 \\cdots (x-1)\\cdot x$\n",
        "* Hint:  In this application, you will be accumulating the **product** of a series of numbers instead of the **sum**.\n",
        "* When we calculated the sum, we initialized the accumulator to 0. What should you initialize the accumulator to be when calculating a product?  \n",
        "* Test out your code for N = 6"
      ],
      "metadata": {
        "id": "T8dRVqKh0k3E"
      }
    },
    {
      "cell_type": "code",
      "source": [
        "n=6\n",
        "total=1\n",
        "for i in range(1,n+1):\n",
        "    total*=i\n",
        "print(total)"
      ],
      "metadata": {
        "id": "4-uaVbV7eaAH",
        "outputId": "1c1650db-838e-4a92-92ad-456a87cf88cf",
        "colab": {
          "base_uri": "https://localhost:8080/"
        }
      },
      "execution_count": 22,
      "outputs": [
        {
          "output_type": "stream",
          "name": "stdout",
          "text": [
            "720\n"
          ]
        }
      ]
    },
    {
      "cell_type": "markdown",
      "source": [
        "### ✅ Skill Check 8\n",
        "\n"
      ],
      "metadata": {
        "id": "v-N2cfaWpH1t"
      }
    },
    {
      "cell_type": "markdown",
      "source": [
        "* Write a program that calculates the sum $\\Sigma_{n=0}^N \\frac{1}{2^n}$, where the upper limit is stored in a variable `N`\n",
        "* Test out your code for N = 10"
      ],
      "metadata": {
        "id": "hTU6GTDZ3FEa"
      }
    },
    {
      "cell_type": "code",
      "source": [
        "s = 0\n",
        "N = 100\n",
        "for n in range(N+1):\n",
        "    s = s + 1/(2**n)\n",
        "print(s)"
      ],
      "metadata": {
        "id": "oYYRhX0_g8Jm"
      },
      "execution_count": null,
      "outputs": []
    },
    {
      "cell_type": "markdown",
      "source": [
        "### ✅ Skill Check 9\n",
        "\n",
        "Write some code to produce the first 15 terms of the Fibonacci sequence:  0, 1, 1, 2, 3, 5, 8...\n",
        "* The Fibonacci sequence is defined as $x_n=x_{n-1} + x_{n-2}$, i.e. each term is the sum of the previous two terms.\n",
        "* Start with a list containing the first two terms in the series: `[0,1]`\n",
        "* Use the accumulator pattern and the example above of extending a list\n",
        "* Print your list when you are done\n"
      ],
      "metadata": {
        "id": "JVILlV1uzlA5"
      }
    },
    {
      "cell_type": "code",
      "source": [
        "n=15\n",
        "\n",
        "fib_list=[0,1]\n",
        "for i in range(2,n):\n",
        "    fib_list.append(fib_list[i-1] + fib_list[i-2])\n",
        "\n",
        "print(fib_list)\n"
      ],
      "metadata": {
        "id": "Zf36i7DDfajv",
        "outputId": "1d7a94ef-d893-4c56-bfb9-4af16ef79cdc",
        "colab": {
          "base_uri": "https://localhost:8080/"
        }
      },
      "execution_count": 32,
      "outputs": [
        {
          "output_type": "stream",
          "name": "stdout",
          "text": [
            "[0, 1, 1, 2, 3, 5, 8, 13, 21, 34, 55, 89, 144, 233, 377]\n"
          ]
        }
      ]
    },
    {
      "cell_type": "markdown",
      "source": [
        "##**5.10 Nested loops**\n",
        "\n",
        "* Loops can contain other loops. Loops within loops are called nested loops\n",
        "* Let's start with a simple loop. The loop variable is `b` and it will loop over the collection `[1, 2, 3]`.\n",
        "* We'll print out the value of `b` on each iteration of the loop\n",
        "* Since this is going to be the inner loop of our nested loop, we'll label it \"inner loop\"\n",
        "* Finally, we'll print a statement telling us when the inner loop is done.\n",
        "\n",
        "Here's the code:\n",
        "\n",
        "\n"
      ],
      "metadata": {
        "id": "PbWKjN9lVSGA"
      }
    },
    {
      "cell_type": "code",
      "source": [
        "print(\"  inner loop\")\n",
        "\n",
        "for b in [1, 2, 3]:\n",
        "    print(f\"     b = {b}\")\n",
        "print(\"inner loop done\")\n"
      ],
      "metadata": {
        "id": "ci_A4pzmemOr",
        "outputId": "53ba27cd-4429-47b1-adb2-deb372965676",
        "colab": {
          "base_uri": "https://localhost:8080/"
        }
      },
      "execution_count": 33,
      "outputs": [
        {
          "output_type": "stream",
          "name": "stdout",
          "text": [
            "  inner loop\n",
            "     b = 1\n",
            "     b = 2\n",
            "     b = 3\n",
            "inner loop done\n"
          ]
        }
      ]
    },
    {
      "cell_type": "markdown",
      "source": [
        "* Now, let's place this loop inside an outer loop.\n",
        "* The outer loop variable will be `a` that will loop over the collection `[10, 20, 30]`\n",
        "* We'll print both the values `a` and `b`\n",
        "* We'll also place the \"inner loop done\" print statement inside our outer loop (but outside the inner loop)\n",
        "\n",
        "Here's the code:"
      ],
      "metadata": {
        "id": "ngB1ZgY4fxQu"
      }
    },
    {
      "cell_type": "code",
      "source": [
        "print(\"outer loop    inner loop\")  # header info before loops start\n",
        "\n",
        "for a in [10, 20, 30]:             # outer loop, a = loop variable\n",
        "\n",
        "    for b in [1, 2, 3]:            # inner loop, b = loop variable\n",
        "        print(f\"  a = {a}        b = {b}\")    # only this statement is performed inside both loops\n",
        "    print(\"inner loop done\")       # display message after inner loop finishes\n",
        "\n",
        "print(\"outer loop done\")           # display message after outer loop finishes"
      ],
      "metadata": {
        "id": "dFnrUjt2dM5q",
        "outputId": "66faaa1d-2baa-41d2-a730-fee241fc5cf7",
        "colab": {
          "base_uri": "https://localhost:8080/"
        }
      },
      "execution_count": 34,
      "outputs": [
        {
          "output_type": "stream",
          "name": "stdout",
          "text": [
            "outer loop    inner loop\n",
            "  a = 10        b = 1\n",
            "  a = 10        b = 2\n",
            "  a = 10        b = 3\n",
            "inner loop done\n",
            "  a = 20        b = 1\n",
            "  a = 20        b = 2\n",
            "  a = 20        b = 3\n",
            "inner loop done\n",
            "  a = 30        b = 1\n",
            "  a = 30        b = 2\n",
            "  a = 30        b = 3\n",
            "inner loop done\n",
            "outer loop done\n"
          ]
        }
      ]
    },
    {
      "cell_type": "markdown",
      "source": [
        "* Notice what happens. While the inner loop is looping, the a variable updates while the b variable stays constant.\n",
        "* When the inner loop is complete, the \"inner loop done\" statement is printed and the next iteration of the outer loop starts.\n",
        "* Notice the indentation. Everything with a single tab is executed inside the outer loop. Everything with a double tab (i.e. the inner print statement) is executed inside both the inner and outer loops\n",
        "* Study this code to make sure you understand it"
      ],
      "metadata": {
        "id": "_388MRJOgZCk"
      }
    },
    {
      "cell_type": "markdown",
      "source": [
        "### ✅ Skill Check 10\n",
        "\n",
        "Trace the following code by hand (i.e. don't run it). Create a text box and write down what the code will output. If you like, you can copy the code in to a Code Cell to see if your prediction was correct.\n",
        "\n",
        "```\n",
        "for x in [1,10,100]:\n",
        "    s = x\n",
        "    for y in [0,1,2]:\n",
        "        s = s + y\n",
        "        print(x,y,s)\n",
        "```\n",
        "\n"
      ],
      "metadata": {
        "id": "KP8r0ZdsXd1J"
      }
    },
    {
      "cell_type": "markdown",
      "source": [
        "**Solution**\n",
        "\n",
        "* A multiplication table is a 2D array of values\n",
        "* if we label the columns as `col` and the rows as `row', a given table entry is product = row * col\n",
        "* We'll create an inner loop that loops over the columns of the table, printing the product with each iteration of the loop\n",
        "* We want to keep the product on the same line, so we'll have to use an optional argument for the print statement. Including `end=\"\"` in the print statementn will do this.\n",
        "* Once the inner loop is complete, we want to start a new line, so we will use a `print()` statement\n",
        "* To get the numbers lined up, we'll need to reserve space so they fit in the columns. If we want a 10x10 multiplication table, the maximum product will be $10\\times 10 = 100$, so we'll need to reserve 3 spaces for our numbers. Thus, we'll use a `{product:3d}` format.\n",
        "\n",
        "Here's the result:"
      ],
      "metadata": {
        "id": "il4py2-Ll6XN"
      }
    },
    {
      "cell_type": "markdown",
      "source": [
        "N = 10       # N = upper limit of multiplication table\n",
        "\n",
        "for row in range(1,N+1):        # loop over rows:  integers 1 to N\n",
        "    for col in range(1,N+1):    # loop over columns: integers 1 to N\n",
        "        product = row * col     # calculate the product\n",
        "        print(f\"{product:3d}  \",end=\"\")   # print result suppressing line feed (don't start new line)\n",
        "    print()                               # start a new line after previous row is done printing"
      ],
      "metadata": {
        "id": "Jz7q5iojVrvE"
      },
      "execution_count": 35,
      "outputs": [
        {
          "output_type": "stream",
          "name": "stdout",
          "text": [
            "  1    2    3    4    5    6    7    8    9   10  \n",
            " 11   12   13   14   15   16   17   18   19   20  \n",
            " 21   22   23   24   25   26   27   28   29   30  \n",
            " 31   32   33   34   35   36   37   38   39   40  \n",
            " 41   42   43   44   45   46   47   48   49   50  \n",
            " 51   52   53   54   55   56   57   58   59   60  \n",
            " 61   62   63   64   65   66   67   68   69   70  \n",
            " 71   72   73   74   75   76   77   78   79   80  \n",
            " 81   82   83   84   85   86   87   88   89   90  \n",
            " 91   92   93   94   95   96   97   98   99  100  \n"
          ]
        }
      ]
    },
    {
      "cell_type": "markdown",
      "source": [
        "### ✅ Skill Check 11\n",
        "\n",
        "Create a multiplication table so that the table entry equals the product of the row number and the column number.\n",
        "* The table should have all product up to NxN, where N is a variable.\n",
        "* Use the previous example as a starting point.\n",
        "* As in the previous example, make sure the numbers in the multipication table are lined up in neat columns.\n",
        "* Run your code with N = 12\n"
      ],
      "metadata": {
        "id": "KP8r0ZdsXd1J"
      }
    },
    {
      "cell_type": "code",
      "source": [],
      "metadata": {
        "id": "eINsAlGlQxx-"
      },
      "execution_count": null,
      "outputs": []
    },
    {
      "cell_type": "markdown",
      "source": [
        "###✅ Skill Check 12\n",
        "\n",
        "* Modify the program you wrote for Skill Check 8 in the following way:\n",
        "* Display the sum found in Skill Check 1 for the following upper limits `N = 1, 2, 3, 5, 10, 100`.\n",
        "* Use a nested loop to Write a program that calculates the sum $\\Sigma_{n=0}^N\\frac{1}{2^n}$.\n",
        "* The output should be produced by a single print statement inside the outer loop\n"
      ],
      "metadata": {
        "id": "cUBOZcNlpmSF"
      }
    },
    {
      "cell_type": "code",
      "source": [
        "n=[1,2,3,5,10,100]\n",
        "total=0\n",
        "for num in n:\n",
        "    total=0\n",
        "    for i in range(num+1):\n",
        "        total+=1/2**i\n",
        "    print(f'N = {num:3d}, {total}')\n",
        "\n"
      ],
      "metadata": {
        "id": "1OIigfx_kugB",
        "outputId": "bca4f505-cd96-4b93-a1d8-4da695f2240c",
        "colab": {
          "base_uri": "https://localhost:8080/"
        }
      },
      "execution_count": 57,
      "outputs": [
        {
          "output_type": "stream",
          "name": "stdout",
          "text": [
            "N =   1, 1.5\n",
            "N =   2, 1.75\n",
            "N =   3, 1.875\n",
            "N =   5, 1.96875\n",
            "N =  10, 1.9990234375\n",
            "N = 100, 2.0\n"
          ]
        }
      ]
    },
    {
      "cell_type": "markdown",
      "source": [
        "##**5.11 `while` loops**\n",
        "\n",
        "* A `while` loop iterates while some condition remains true.\n",
        "* It starts with `while`, specifices a condition to keep looping and ends with a colon `:`\n",
        "\n",
        "### 🔆 Example:  Rolling dice\n",
        "\n",
        "This example simulates rolling a 6-sided die. We count how many rolls it takes to get a predetermined roll (in this case a 6).\n",
        "* We use the `random` library to generate random numbers\n",
        "* The command `random.randint(a,b)` generates a new random integer each time the command is called. The integer is drawn from a uniform distribution between `a` and `b`. We will use `random.randint(1,6)` to generate numbers between 1 and 6 inclusive.\n",
        "* We define a variable `target_roll` to be the value we want to roll (in our case 6)\n",
        "* The variable `count` is a counter to count how many rolls it takes to get our target\n",
        "* `roll` is the result of our random number generator used to simulate the dice roll.\n",
        "* Our `while` loop keeps iterating as long as the dice roll is not equal to the target.\n",
        "* Inside the loop, we use `random.randint(1,6)` to simulate our dice roll\n",
        "* We increment our counter everytime we generate a random dice roll\n",
        "* If the roll produces the `target_roll`, the condition `roll != target_roll` will be `False` and teh while loop will stop.\n",
        "* We print the total number of rolls at the end of the program\n",
        "Run the program to see what it produces\n",
        "\n"
      ],
      "metadata": {
        "id": "3zj5CkMWsNzs"
      }
    },
    {
      "cell_type": "code",
      "source": [
        "import random           # import random library to use random number generator\n",
        "\n",
        "target_roll = 6         # roll that you want to get\n",
        "count = 0               # counter variable to count number of rolls\n",
        "roll = -1               # initialize roll to any value other than the target\n",
        "\n",
        "while roll != target_roll:         # loop while desired roll hasn't\n",
        "    roll = random.randint(1,6)     # use random number generator to draw number between 1 and 6\n",
        "    count = count + 1              # increase counter tracking number of rolls\n",
        "    print(\"roll = \",roll)          # display current roll\n",
        "\n",
        "# print message giving total number of rolls\n",
        "print(\"Number of rolls to get\",target_roll,\"=\",count)"
      ],
      "metadata": {
        "id": "e0cGttJusjTq",
        "outputId": "0fdf7469-68c4-4c30-e35f-b2155c5a5ac1",
        "colab": {
          "base_uri": "https://localhost:8080/"
        }
      },
      "execution_count": 59,
      "outputs": [
        {
          "output_type": "stream",
          "name": "stdout",
          "text": [
            "roll =  3\n",
            "roll =  3\n",
            "roll =  4\n",
            "roll =  4\n",
            "roll =  2\n",
            "roll =  2\n",
            "roll =  1\n",
            "roll =  5\n",
            "roll =  6\n",
            "Number of rolls to get 6 = 9\n"
          ]
        }
      ]
    },
    {
      "cell_type": "markdown",
      "source": [
        "###✅ Skill Check 13\n",
        "Modify the Rolling Dice program in the following way:\n",
        "* Adapt it for flipping a coin (2 possible outcomes instead of 6)\n",
        "* You might imagine 1 = heads and 2 = tails\n",
        "* Instead of tyring to get a 6, try to get \"heads\", i.e. a 1.\n",
        "* Run it a few times. What's the largest number of coin flips you get **without** getting heads (in other words, getting tails every time)?"
      ],
      "metadata": {
        "id": "tayvhikoAHqg"
      }
    },
    {
      "cell_type": "code",
      "source": [
        "import random           # import random library to use random number generator\n",
        "#heads =1\n",
        "#tails =2\n",
        "target_roll = 1        # roll that you want to get\n",
        "count = 0               # counter variable to count number of rolls\n",
        "roll = -1               # initialize roll to any value other than the target\n",
        "\n",
        "while roll != target_roll:         # loop while desired roll hasn't\n",
        "    roll = random.randint(1,2)     # use random number generator to draw number between 1 and 6\n",
        "    count = count + 1              # increase counter tracking number of rolls\n",
        "    print(\"roll = \",roll)          # display current roll\n",
        "\n",
        "# print message giving total number of rolls\n",
        "print(\"Number of rolls to get\",target_roll,\"=\",count)"
      ],
      "metadata": {
        "id": "l25aEIf9ll9W",
        "outputId": "58bbff1c-d40f-47f6-82e6-5d878fcef69f",
        "colab": {
          "base_uri": "https://localhost:8080/"
        }
      },
      "execution_count": 87,
      "outputs": [
        {
          "output_type": "stream",
          "name": "stdout",
          "text": [
            "roll =  2\n",
            "roll =  2\n",
            "roll =  2\n",
            "roll =  2\n",
            "roll =  2\n",
            "roll =  1\n",
            "Number of rolls to get 1 = 6\n"
          ]
        }
      ]
    },
    {
      "cell_type": "markdown",
      "source": [
        "6 rolls\n"
      ],
      "metadata": {
        "id": "xLBe8J-Bl-2x"
      }
    },
    {
      "cell_type": "markdown",
      "source": [
        "###✅ Skill Check 13\n",
        "Modify the Rolling Dice program in the following way:\n",
        "* Adapt it for flipping a coin (2 possible outcomes instead of 6)\n",
        "* You might imagine 1 = heads and 2 = tails\n",
        "* Instead of tyring to get a 6, try to get \"heads\", i.e. a 1.\n",
        "* Run it a few times. What's the largest number of coin flips you get **without** getting heads (in other words, getting tails every time)?"
      ],
      "metadata": {
        "id": "tayvhikoAHqg"
      }
    },
    {
      "cell_type": "markdown",
      "source": [
        "##Key Points\n",
        "\n",
        "* for loops execute commands once for each value in a collection\n",
        "* `while` loops keep looping as long as a specified condition is true\n",
        "* A for loop is made of a collection, a loop variable and a body\n",
        "* The first line of a for loop must end with a colon and the body must be indented\n",
        "* Loop variables can be called anything\n",
        "* The body of a loop can contain many statements\n",
        "* Use range() to iterate over a sequence of numbers\n",
        "* Use enumerate() to loop over values and the list index\n",
        "* Use zip() to loop over multiple lists\n",
        "* The accumulator pattern is a way of summing or combining elements in a collection of numbers\n",
        "* Nested loops place one loop inside another"
      ],
      "metadata": {
        "id": "RT643CcAOwf4"
      }
    }
  ]
}